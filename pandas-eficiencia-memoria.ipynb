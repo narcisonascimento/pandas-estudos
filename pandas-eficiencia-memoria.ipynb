{
 "cells": [
  {
   "attachments": {},
   "cell_type": "markdown",
   "metadata": {},
   "source": [
    "## Pandas - Como otimizar o uso de memória\n",
    "\n",
    "O objetivo desse estudo é aumentar a eficiência do uso da biblioteca Pandas, diminuindo o uso de memória.<br>\n",
    "Utilizando o ``dtypes`` de forma \"mais correta\"."
   ]
  },
  {
   "cell_type": "code",
   "execution_count": 25,
   "metadata": {},
   "outputs": [],
   "source": [
    "import pandas as pd\n",
    "import numpy as np\n",
    "\n",
    "from numpy import size"
   ]
  },
  {
   "attachments": {},
   "cell_type": "markdown",
   "metadata": {},
   "source": [
    "## Dataframe\n",
    "\n",
    "Criando o dataframe com a biblioteca ``numpy``, vou criar o dataframe inspirado em um time de futebol."
   ]
  },
  {
   "cell_type": "code",
   "execution_count": 26,
   "metadata": {},
   "outputs": [],
   "source": [
    "def setup_dataframe(size):\n",
    "    df = pd.DataFrame()\n",
    "    df['posicao'] = np.random.choice(['goleiro', 'zagueiro', 'meio campo', 'lateral direito', 'lateral esquerdo', 'atacante'], size)\n",
    "    df['idade'] = np.random.randint(10, 50, size)\n",
    "    df['time'] = np.random.choice(['amarelo', 'vermelho', 'azul', 'verde'], size)\n",
    "    df['vencedor'] = np.random.choice(['sim', 'nao'], size)\n",
    "    df['probabilidade'] = np.random.uniform(0, 1, size)\n",
    "    return df"
   ]
  },
  {
   "cell_type": "code",
   "execution_count": 27,
   "metadata": {},
   "outputs": [
    {
     "name": "stdout",
     "output_type": "stream",
     "text": [
      "<class 'pandas.core.frame.DataFrame'>\n",
      "RangeIndex: 1000000 entries, 0 to 999999\n",
      "Data columns (total 5 columns):\n",
      " #   Column         Non-Null Count    Dtype  \n",
      "---  ------         --------------    -----  \n",
      " 0   posicao        1000000 non-null  object \n",
      " 1   idade          1000000 non-null  int32  \n",
      " 2   time           1000000 non-null  object \n",
      " 3   vencedor       1000000 non-null  object \n",
      " 4   probabilidade  1000000 non-null  float64\n",
      "dtypes: float64(1), int32(1), object(3)\n",
      "memory usage: 34.3+ MB\n",
      "CPU times: total: 1.48 s\n",
      "Wall time: 1.66 s\n"
     ]
    }
   ],
   "source": [
    "%%time\n",
    "df = setup_dataframe(1_000_000)\n",
    "df.info()"
   ]
  },
  {
   "cell_type": "code",
   "execution_count": 28,
   "metadata": {},
   "outputs": [],
   "source": [
    "df['idade_rank'] = df.groupby(['time', 'posicao'])['idade'].rank()\n",
    "df['probabilidade_rank'] = df.groupby(['time', 'posicao'])['probabilidade'].rank()\n",
    "df['vencedor_probabilidade_rank'] = df.groupby(['time', 'posicao', 'vencedor'])['probabilidade'].rank()"
   ]
  },
  {
   "cell_type": "code",
   "execution_count": 29,
   "metadata": {},
   "outputs": [
    {
     "name": "stdout",
     "output_type": "stream",
     "text": [
      "1.2 s ± 294 ms per loop (mean ± std. dev. of 7 runs, 1 loop each)\n",
      "The slowest run took 4.03 times longer than the fastest. This could mean that an intermediate result is being cached.\n",
      "1.14 s ± 685 ms per loop (mean ± std. dev. of 7 runs, 1 loop each)\n",
      "951 ms ± 275 ms per loop (mean ± std. dev. of 7 runs, 1 loop each)\n"
     ]
    }
   ],
   "source": [
    "%timeit df['idade_rank'] = df.groupby(['time', 'posicao'])['idade'].rank()\n",
    "%timeit df['probabilidade_rank'] = df.groupby(['time', 'posicao'])['probabilidade'].rank()\n",
    "%timeit df['vencedor_probabilidade_rank'] = df.groupby(['time', 'posicao', 'vencedor'])['probabilidade'].rank()"
   ]
  },
  {
   "attachments": {},
   "cell_type": "markdown",
   "metadata": {},
   "source": [
    "## Alterando os Tipos das variáveis\n",
    "\n",
    "### Variáveis do tipo ``object``\n",
    "Podemos observar após a alteração das variáveis do tipo ``object`` para ``category`` o uso de memória diminui consideravelmente."
   ]
  },
  {
   "cell_type": "code",
   "execution_count": 30,
   "metadata": {},
   "outputs": [
    {
     "name": "stdout",
     "output_type": "stream",
     "text": [
      "<class 'pandas.core.frame.DataFrame'>\n",
      "RangeIndex: 1000000 entries, 0 to 999999\n",
      "Data columns (total 5 columns):\n",
      " #   Column         Non-Null Count    Dtype   \n",
      "---  ------         --------------    -----   \n",
      " 0   posicao        1000000 non-null  category\n",
      " 1   idade          1000000 non-null  int32   \n",
      " 2   time           1000000 non-null  category\n",
      " 3   vencedor       1000000 non-null  category\n",
      " 4   probabilidade  1000000 non-null  float64 \n",
      "dtypes: category(3), float64(1), int32(1)\n",
      "memory usage: 14.3 MB\n",
      "CPU times: total: 1.19 s\n",
      "Wall time: 1.29 s\n"
     ]
    }
   ],
   "source": [
    "%%time\n",
    "df = setup_dataframe(1_000_000)\n",
    "df['posicao'] = df['posicao'].astype('category')\n",
    "df['time'] = df['time'].astype('category')\n",
    "df['vencedor'] = df['vencedor'].astype('category')\n",
    "df.info()"
   ]
  },
  {
   "attachments": {},
   "cell_type": "markdown",
   "metadata": {},
   "source": [
    "### Variáveis do tipo ``int``\n",
    "\n",
    "Podemos fazer ``downcast`` dos valores ``int``. Isso quer dizer que podemos alterar de ``int64`` para ``int16`` ou ``int8``. <br>\n",
    "Entretanto, esse processo deve ser feito com cautela, os dados do dataframe podem sofrer alterações os deixando diferentes do origial.\n",
    "\n",
    "Essa tabela é um \"mini guia\" para o downcasting.\n",
    "\n",
    "- 8 bit inicia em –128 até 127\n",
    "- 16 bit inicia em  –32768 até 32767\n",
    "- 32 bit inicia em –2147483648 até 2147483647\n",
    "- 64 bit inicia em -9223372036854775808 até -9223372036854775808"
   ]
  },
  {
   "attachments": {},
   "cell_type": "markdown",
   "metadata": {},
   "source": [
    "Vou iniciar com a variável ``idade``.<br>\n",
    "Sabemos que seres humanos podem viver até os 130 anos. As chances são muito baixas até esse idade.<br>\n",
    "Com isso em mente, vou alterar de ``int32`` para ``int8``."
   ]
  },
  {
   "cell_type": "code",
   "execution_count": 31,
   "metadata": {},
   "outputs": [
    {
     "name": "stdout",
     "output_type": "stream",
     "text": [
      "<class 'pandas.core.series.Series'>\n",
      "RangeIndex: 1000000 entries, 0 to 999999\n",
      "Series name: idade\n",
      "Non-Null Count    Dtype\n",
      "--------------    -----\n",
      "1000000 non-null  int32\n",
      "dtypes: int32(1)\n",
      "memory usage: 3.8 MB\n"
     ]
    }
   ],
   "source": [
    "df['idade'].info()"
   ]
  },
  {
   "cell_type": "code",
   "execution_count": 32,
   "metadata": {},
   "outputs": [
    {
     "name": "stdout",
     "output_type": "stream",
     "text": [
      "49\n",
      "10\n"
     ]
    }
   ],
   "source": [
    "print(df['idade'].max())\n",
    "print(df['idade'].min())"
   ]
  },
  {
   "cell_type": "code",
   "execution_count": 33,
   "metadata": {},
   "outputs": [
    {
     "name": "stdout",
     "output_type": "stream",
     "text": [
      "<class 'pandas.core.frame.DataFrame'>\n",
      "RangeIndex: 1000000 entries, 0 to 999999\n",
      "Data columns (total 5 columns):\n",
      " #   Column         Non-Null Count    Dtype   \n",
      "---  ------         --------------    -----   \n",
      " 0   posicao        1000000 non-null  category\n",
      " 1   idade          1000000 non-null  int8    \n",
      " 2   time           1000000 non-null  category\n",
      " 3   vencedor       1000000 non-null  category\n",
      " 4   probabilidade  1000000 non-null  float64 \n",
      "dtypes: category(3), float64(1), int8(1)\n",
      "memory usage: 11.4 MB\n"
     ]
    }
   ],
   "source": [
    "df['idade'] = df['idade'].astype('int8')\n",
    "df.info()"
   ]
  },
  {
   "attachments": {},
   "cell_type": "markdown",
   "metadata": {},
   "source": [
    "## Donwcast ``floats``\n",
    "\n",
    "Seguindo a mesma linha do tipo ``int``, podemos alterar o tipo ``float`` e diminuir o uso da memória.<br>\n",
    "É necessário ter certeza que os dados não serão alterados."
   ]
  },
  {
   "cell_type": "code",
   "execution_count": 34,
   "metadata": {},
   "outputs": [
    {
     "name": "stdout",
     "output_type": "stream",
     "text": [
      "<class 'pandas.core.series.Series'>\n",
      "RangeIndex: 1000000 entries, 0 to 999999\n",
      "Series name: probabilidade\n",
      "Non-Null Count    Dtype  \n",
      "--------------    -----  \n",
      "1000000 non-null  float64\n",
      "dtypes: float64(1)\n",
      "memory usage: 7.6 MB\n"
     ]
    }
   ],
   "source": [
    "df['probabilidade'].info()"
   ]
  },
  {
   "cell_type": "code",
   "execution_count": 35,
   "metadata": {},
   "outputs": [
    {
     "name": "stdout",
     "output_type": "stream",
     "text": [
      "0.9999984780402752\n",
      "4.0518407051770566e-07\n"
     ]
    }
   ],
   "source": [
    "print(df['probabilidade'].max())\n",
    "print(df['probabilidade'].min())"
   ]
  },
  {
   "cell_type": "code",
   "execution_count": 36,
   "metadata": {},
   "outputs": [
    {
     "data": {
      "text/plain": [
       "0         0.208839\n",
       "1         0.226900\n",
       "2         0.552175\n",
       "3         0.295297\n",
       "4         0.984637\n",
       "            ...   \n",
       "999995    0.397899\n",
       "999996    0.213759\n",
       "999997    0.543745\n",
       "999998    0.133332\n",
       "999999    0.007853\n",
       "Name: probabilidade, Length: 1000000, dtype: float64"
      ]
     },
     "execution_count": 36,
     "metadata": {},
     "output_type": "execute_result"
    }
   ],
   "source": [
    "df['probabilidade']"
   ]
  },
  {
   "cell_type": "code",
   "execution_count": 37,
   "metadata": {},
   "outputs": [
    {
     "data": {
      "text/plain": [
       "0         0.208839\n",
       "1         0.226900\n",
       "2         0.552175\n",
       "3         0.295297\n",
       "4         0.984637\n",
       "            ...   \n",
       "999995    0.397899\n",
       "999996    0.213759\n",
       "999997    0.543745\n",
       "999998    0.133332\n",
       "999999    0.007853\n",
       "Name: probabilidade, Length: 1000000, dtype: float32"
      ]
     },
     "execution_count": 37,
     "metadata": {},
     "output_type": "execute_result"
    }
   ],
   "source": [
    "df['probabilidade'] = df['probabilidade'].astype('float32')\n",
    "df['probabilidade']"
   ]
  },
  {
   "cell_type": "code",
   "execution_count": 38,
   "metadata": {},
   "outputs": [
    {
     "name": "stdout",
     "output_type": "stream",
     "text": [
      "<class 'pandas.core.series.Series'>\n",
      "RangeIndex: 1000000 entries, 0 to 999999\n",
      "Series name: probabilidade\n",
      "Non-Null Count    Dtype  \n",
      "--------------    -----  \n",
      "1000000 non-null  float32\n",
      "dtypes: float32(1)\n",
      "memory usage: 3.8 MB\n"
     ]
    }
   ],
   "source": [
    "df[ 'probabilidade'].info()"
   ]
  },
  {
   "attachments": {},
   "cell_type": "markdown",
   "metadata": {},
   "source": [
    "## Variáveis booleanas\n",
    "\n",
    "Também podemos alterar variáveis \"sim/não\" para o tipo ``bool``, isso ajudará a diminuir o uso de memória."
   ]
  },
  {
   "cell_type": "code",
   "execution_count": 39,
   "metadata": {},
   "outputs": [
    {
     "name": "stdout",
     "output_type": "stream",
     "text": [
      "<class 'pandas.core.series.Series'>\n",
      "RangeIndex: 1000000 entries, 0 to 999999\n",
      "Series name: vencedor\n",
      "Non-Null Count    Dtype   \n",
      "--------------    -----   \n",
      "1000000 non-null  category\n",
      "dtypes: category(1)\n",
      "memory usage: 976.8 KB\n"
     ]
    }
   ],
   "source": [
    "df['vencedor'].info()"
   ]
  },
  {
   "cell_type": "code",
   "execution_count": 40,
   "metadata": {},
   "outputs": [
    {
     "data": {
      "text/html": [
       "<div>\n",
       "<style scoped>\n",
       "    .dataframe tbody tr th:only-of-type {\n",
       "        vertical-align: middle;\n",
       "    }\n",
       "\n",
       "    .dataframe tbody tr th {\n",
       "        vertical-align: top;\n",
       "    }\n",
       "\n",
       "    .dataframe thead th {\n",
       "        text-align: right;\n",
       "    }\n",
       "</style>\n",
       "<table border=\"1\" class=\"dataframe\">\n",
       "  <thead>\n",
       "    <tr style=\"text-align: right;\">\n",
       "      <th></th>\n",
       "      <th>posicao</th>\n",
       "      <th>idade</th>\n",
       "      <th>time</th>\n",
       "      <th>vencedor</th>\n",
       "      <th>probabilidade</th>\n",
       "    </tr>\n",
       "  </thead>\n",
       "  <tbody>\n",
       "    <tr>\n",
       "      <th>0</th>\n",
       "      <td>lateral esquerdo</td>\n",
       "      <td>26</td>\n",
       "      <td>amarelo</td>\n",
       "      <td>sim</td>\n",
       "      <td>0.208839</td>\n",
       "    </tr>\n",
       "    <tr>\n",
       "      <th>1</th>\n",
       "      <td>zagueiro</td>\n",
       "      <td>45</td>\n",
       "      <td>verde</td>\n",
       "      <td>nao</td>\n",
       "      <td>0.226900</td>\n",
       "    </tr>\n",
       "    <tr>\n",
       "      <th>2</th>\n",
       "      <td>lateral direito</td>\n",
       "      <td>47</td>\n",
       "      <td>amarelo</td>\n",
       "      <td>sim</td>\n",
       "      <td>0.552175</td>\n",
       "    </tr>\n",
       "    <tr>\n",
       "      <th>3</th>\n",
       "      <td>lateral esquerdo</td>\n",
       "      <td>24</td>\n",
       "      <td>vermelho</td>\n",
       "      <td>sim</td>\n",
       "      <td>0.295297</td>\n",
       "    </tr>\n",
       "    <tr>\n",
       "      <th>4</th>\n",
       "      <td>lateral esquerdo</td>\n",
       "      <td>18</td>\n",
       "      <td>verde</td>\n",
       "      <td>nao</td>\n",
       "      <td>0.984637</td>\n",
       "    </tr>\n",
       "  </tbody>\n",
       "</table>\n",
       "</div>"
      ],
      "text/plain": [
       "            posicao  idade      time vencedor  probabilidade\n",
       "0  lateral esquerdo     26   amarelo      sim       0.208839\n",
       "1          zagueiro     45     verde      nao       0.226900\n",
       "2   lateral direito     47   amarelo      sim       0.552175\n",
       "3  lateral esquerdo     24  vermelho      sim       0.295297\n",
       "4  lateral esquerdo     18     verde      nao       0.984637"
      ]
     },
     "execution_count": 40,
     "metadata": {},
     "output_type": "execute_result"
    }
   ],
   "source": [
    "df.head()"
   ]
  },
  {
   "cell_type": "code",
   "execution_count": 41,
   "metadata": {},
   "outputs": [
    {
     "name": "stdout",
     "output_type": "stream",
     "text": [
      "<class 'pandas.core.frame.DataFrame'>\n",
      "RangeIndex: 1000000 entries, 0 to 999999\n",
      "Data columns (total 5 columns):\n",
      " #   Column         Non-Null Count    Dtype   \n",
      "---  ------         --------------    -----   \n",
      " 0   posicao        1000000 non-null  category\n",
      " 1   idade          1000000 non-null  int8    \n",
      " 2   time           1000000 non-null  category\n",
      " 3   vencedor       1000000 non-null  category\n",
      " 4   probabilidade  1000000 non-null  float32 \n",
      "dtypes: category(3), float32(1), int8(1)\n",
      "memory usage: 7.6 MB\n"
     ]
    }
   ],
   "source": [
    "df['vencedor'].map({'sim': True, 'não': False})\n",
    "df.info()"
   ]
  },
  {
   "attachments": {},
   "cell_type": "markdown",
   "metadata": {},
   "source": [
    "## Prova final"
   ]
  },
  {
   "cell_type": "code",
   "execution_count": 42,
   "metadata": {},
   "outputs": [],
   "source": [
    "def alterando_dtypes(df):\n",
    "    df['posicao'] = df['posicao'].astype('category')\n",
    "    df['time'] = df['time'].astype('category')\n",
    "    df['vencedor'] = df['vencedor'].astype('category')\n",
    "    df['probabilidade'] = df['probabilidade'].astype('float32')\n",
    "    df['vencedor'].map({'sim': True, 'não': False})\n",
    "    return df"
   ]
  },
  {
   "cell_type": "code",
   "execution_count": 43,
   "metadata": {},
   "outputs": [
    {
     "name": "stdout",
     "output_type": "stream",
     "text": [
      "843 ms ± 477 ms per loop (mean ± std. dev. of 7 runs, 1 loop each)\n",
      "866 ms ± 256 ms per loop (mean ± std. dev. of 7 runs, 1 loop each)\n",
      "991 ms ± 224 ms per loop (mean ± std. dev. of 7 runs, 1 loop each)\n",
      "CPU times: total: 17.5 s\n",
      "Wall time: 22.4 s\n"
     ]
    }
   ],
   "source": [
    "%%time\n",
    "df = setup_dataframe(1_000_000)\n",
    "%timeit df['idade_rank'] = df.groupby(['time', 'posicao'])['idade'].rank()\n",
    "%timeit df['probabilidade_rank'] = df.groupby(['time', 'posicao'])['probabilidade'].rank()\n",
    "%timeit df['vencedor_probabilidade_rank'] = df.groupby(['time', 'posicao', 'vencedor'])['probabilidade'].rank()"
   ]
  },
  {
   "cell_type": "code",
   "execution_count": 44,
   "metadata": {},
   "outputs": [
    {
     "name": "stdout",
     "output_type": "stream",
     "text": [
      "557 ms ± 200 ms per loop (mean ± std. dev. of 7 runs, 1 loop each)\n",
      "700 ms ± 233 ms per loop (mean ± std. dev. of 7 runs, 1 loop each)\n",
      "809 ms ± 335 ms per loop (mean ± std. dev. of 7 runs, 1 loop each)\n",
      "CPU times: total: 13.6 s\n",
      "Wall time: 17.5 s\n"
     ]
    }
   ],
   "source": [
    "%%time\n",
    "df = setup_dataframe(1_000_000)\n",
    "df = alterando_dtypes(df)\n",
    "%timeit df['idade_rank'] = df.groupby(['time', 'posicao'])['idade'].rank()\n",
    "%timeit df['probabilidade_rank'] = df.groupby(['time', 'posicao'])['probabilidade'].rank()\n",
    "%timeit df['vencedor_probabilidade_rank'] = df.groupby(['time', 'posicao', 'vencedor'])['probabilidade'].rank()"
   ]
  },
  {
   "attachments": {},
   "cell_type": "markdown",
   "metadata": {},
   "source": [
    "## Aumentando os dados para teste final"
   ]
  },
  {
   "cell_type": "code",
   "execution_count": 45,
   "metadata": {},
   "outputs": [
    {
     "name": "stdout",
     "output_type": "stream",
     "text": [
      "7.74 s ± 1.08 s per loop (mean ± std. dev. of 7 runs, 1 loop each)\n",
      "9.71 s ± 718 ms per loop (mean ± std. dev. of 7 runs, 1 loop each)\n",
      "11.3 s ± 1.23 s per loop (mean ± std. dev. of 7 runs, 1 loop each)\n"
     ]
    }
   ],
   "source": [
    "df = setup_dataframe(10_000_000)\n",
    "%timeit df['idade_rank'] = df.groupby(['time', 'posicao'])['idade'].rank()\n",
    "%timeit df['probabilidade_rank'] = df.groupby(['time', 'posicao'])['probabilidade'].rank()\n",
    "%timeit df['vencedor_probabilidade_rank'] = df.groupby(['time', 'posicao', 'vencedor'])['probabilidade'].rank()"
   ]
  },
  {
   "cell_type": "code",
   "execution_count": 46,
   "metadata": {},
   "outputs": [
    {
     "name": "stdout",
     "output_type": "stream",
     "text": [
      "5.53 s ± 330 ms per loop (mean ± std. dev. of 7 runs, 1 loop each)\n",
      "8.45 s ± 1.24 s per loop (mean ± std. dev. of 7 runs, 1 loop each)\n",
      "8.42 s ± 474 ms per loop (mean ± std. dev. of 7 runs, 1 loop each)\n"
     ]
    }
   ],
   "source": [
    "df = setup_dataframe(10_000_000)\n",
    "df = alterando_dtypes(df)\n",
    "%timeit df['idade_rank'] = df.groupby(['time', 'posicao'])['idade'].rank()\n",
    "%timeit df['probabilidade_rank'] = df.groupby(['time', 'posicao'])['probabilidade'].rank()\n",
    "%timeit df['vencedor_probabilidade_rank'] = df.groupby(['time', 'posicao', 'vencedor'])['probabilidade'].rank()"
   ]
  },
  {
   "attachments": {},
   "cell_type": "markdown",
   "metadata": {},
   "source": [
    "Fontes:\n",
    "- [Rob Mulla](https://www.youtube.com/@robmulla/about)\n",
    "- [analyticsvidhya](https://www.analyticsvidhya.com/blog/2021/04/how-to-reduce-memory-usage-in-python-pandas/)"
   ]
  }
 ],
 "metadata": {
  "kernelspec": {
   "display_name": "pandas-estudos-fpk2KFO8",
   "language": "python",
   "name": "python3"
  },
  "language_info": {
   "codemirror_mode": {
    "name": "ipython",
    "version": 3
   },
   "file_extension": ".py",
   "mimetype": "text/x-python",
   "name": "python",
   "nbconvert_exporter": "python",
   "pygments_lexer": "ipython3",
   "version": "3.11.0"
  },
  "orig_nbformat": 4,
  "vscode": {
   "interpreter": {
    "hash": "36f5c3fec911b2108d8688ee16ea0dd5c3a433d7e6008d3c3543ba0f369d4449"
   }
  }
 },
 "nbformat": 4,
 "nbformat_minor": 2
}
